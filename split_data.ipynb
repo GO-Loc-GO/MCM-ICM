{
 "cells": [
  {
   "cell_type": "code",
   "execution_count": 10,
   "id": "superb-english",
   "metadata": {},
   "outputs": [
    {
     "name": "stdout",
     "output_type": "stream",
     "text": [
      "[negative] processing [150/150]\n",
      "[positive] processing [86/86]\n",
      "[unverified] processing [97/97]\n",
      "processing done!\n"
     ]
    }
   ],
   "source": [
    "#split_data.py\n",
    "\n",
    "import os\n",
    "from shutil import copy\n",
    "import random\n",
    "\n",
    "\n",
    "def mkfile(file):\n",
    "    if not os.path.exists(file):\n",
    "        os.makedirs(file)\n",
    "\n",
    "\n",
    "file = 'hornet_data/hornet_photos'\n",
    "hornet_class = [cla for cla in os.listdir(file) if \".txt\" not in cla]\n",
    "mkfile('hornet_data/hornet_photos')\n",
    "for cla in hornet_class:\n",
    "    mkfile('hornet_data/train/'+cla)\n",
    "\n",
    "mkfile('hornet_data/val')\n",
    "for cla in hornet_class:\n",
    "    mkfile('hornet_data/val/'+cla)\n",
    "\n",
    "split_rate = 0.3\n",
    "for cla in hornet_class:\n",
    "    cla_path = file + '/' + cla + '/'\n",
    "    images = os.listdir(cla_path)\n",
    "    num = len(images)\n",
    "    eval_index = random.sample(images, k=int(num*split_rate))\n",
    "    for index, image in enumerate(images):\n",
    "        if image in eval_index:\n",
    "            image_path = cla_path + image\n",
    "            new_path = 'hornet_data/val/' + cla\n",
    "            copy(image_path, new_path)\n",
    "        else:\n",
    "            image_path = cla_path + image\n",
    "            new_path = 'hornet_data/train/' + cla\n",
    "            copy(image_path, new_path)\n",
    "        print(\"\\r[{}] processing [{}/{}]\".format(cla, index+1, num), end=\"\")  # processing bar\n",
    "    print()\n",
    "\n",
    "print(\"processing done!\")"
   ]
  },
  {
   "cell_type": "code",
   "execution_count": null,
   "id": "little-aside",
   "metadata": {},
   "outputs": [],
   "source": []
  },
  {
   "cell_type": "code",
   "execution_count": null,
   "id": "federal-principle",
   "metadata": {},
   "outputs": [],
   "source": []
  }
 ],
 "metadata": {
  "kernelspec": {
   "display_name": "Python 3",
   "language": "python",
   "name": "python3"
  },
  "language_info": {
   "codemirror_mode": {
    "name": "ipython",
    "version": 3
   },
   "file_extension": ".py",
   "mimetype": "text/x-python",
   "name": "python",
   "nbconvert_exporter": "python",
   "pygments_lexer": "ipython3",
   "version": "3.8.10"
  }
 },
 "nbformat": 4,
 "nbformat_minor": 5
}
